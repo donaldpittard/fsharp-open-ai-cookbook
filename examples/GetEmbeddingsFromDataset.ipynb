{
 "cells": [
  {
   "cell_type": "markdown",
   "metadata": {},
   "source": [
    "# Get embedding from dataset\n",
    "\n",
    "This notebook gives an example on how to get embeddings from a large dataset.\n",
    "\n",
    "# 1. Dependencies and Types"
   ]
  },
  {
   "cell_type": "code",
   "execution_count": 10,
   "metadata": {
    "dotnet_interactive": {
     "language": "fsharp"
    },
    "polyglot_notebook": {
     "kernelName": "fsharp"
    },
    "vscode": {
     "languageId": "polyglot-notebook"
    }
   },
   "outputs": [
    {
     "data": {
      "text/html": [
       "<div><div></div><div></div><div><strong>Installed Packages</strong><ul><li><span>CsvHelper, 30.0.1</span></li><li><span>SharpToken, 1.2.12</span></li><li><span>System.Numerics.Tensors, 8.0.0-rc.2.23479.6</span></li></ul></div></div>"
      ]
     },
     "metadata": {},
     "output_type": "display_data"
    }
   ],
   "source": [
    "#r \"nuget: CsvHelper, 30.0.1\"\n",
    "#r \"nuget: SharpToken, 1.2.12\"\n",
    "#r \"nuget: System.Numerics.Tensors, 8.0.0-rc.2.23479.6\"\n",
    "#load \"Csv.fs\"\n",
    "#load \"OpenAi.fs\"\n",
    "#load \"Review.fs\""
   ]
  },
  {
   "cell_type": "markdown",
   "metadata": {},
   "source": [
    "# 2. Load the dataset\n",
    "\n",
    "The dataset used in this example is [Amazon Fine Food Reviews Dataset](https://www.kaggle.com/datasets/snap/amazon-fine-food-reviews). The dataset contains a total of 568,454 food reviews Amazon users left up to October 2012. We will use a subset of this dataset, consisting of 1,000 most recent reviews for illustration purposes. The reviews are in English and tend to be positive or negative. Each review has a ProductId, UserId, Score, review title (Summary) and review body (Text).\n",
    "\n",
    "We will combine the review summary and review text into a single combined text. The model will encode this combined text and it will output a single vector embedding.\n"
   ]
  },
  {
   "cell_type": "code",
   "execution_count": 11,
   "metadata": {
    "dotnet_interactive": {
     "language": "fsharp"
    },
    "polyglot_notebook": {
     "kernelName": "fsharp"
    },
    "vscode": {
     "languageId": "polyglot-notebook"
    }
   },
   "outputs": [
    {
     "name": "stdout",
     "output_type": "stream",
     "text": [
      "0 1351123200 B003XPF9BO A3R7JR3FMEBXQB 5 where does one  start...and stop... with a treat like this Wanted to save some to bring to my Chicago family but my North Carolina family ate all 4 boxes before I could pack. These are excellent...could serve to anyone Title: where does one  start...and stop... with a treat like this; Content: Wanted to save some to bring to my Chicago family but my North Carolina family ate all 4 boxes before I could pack. These are excellent...could serve to anyone\n",
      "\n",
      "1 1351123200 B003JK537S A3JBPC3WFUT5ZP 1 Arrived in pieces Not pleased at all. When I opened the box, most of the rings were broken in pieces. A total waste of money. Title: Arrived in pieces; Content: Not pleased at all. When I opened the box, most of the rings were broken in pieces. A total waste of money.\n",
      "\n"
     ]
    }
   ],
   "source": [
    "open Csv\n",
    "open Review\n",
    "\n",
    "let inputPath = \"data/fine_food_reviews_1k.csv\"\n",
    "let df = \n",
    "    readCsv<Review> inputPath\n",
    "    |> Seq.map AugmentedReview\n",
    "    |> Seq.map (fun r -> \n",
    "        r.Combined <- $\"Title: {r.Summary.Trim()}; Content: {r.Text.Trim()}\"\n",
    "        r)\n",
    "\n",
    "\n",
    "for data in df |> Seq.take 2 do\n",
    "    printfn $\"{data.Id} {data.Time} {data.ProductId} {data.UserId} {data.Score} {data.Summary} {data.Text} {data.Combined}\"\n",
    "    printfn \"\"\n"
   ]
  },
  {
   "cell_type": "code",
   "execution_count": 12,
   "metadata": {
    "dotnet_interactive": {
     "language": "fsharp"
    },
    "polyglot_notebook": {
     "kernelName": "fsharp"
    },
    "vscode": {
     "languageId": "polyglot-notebook"
    }
   },
   "outputs": [
    {
     "data": {
      "text/html": [
       "<div class=\"dni-plaintext\"><pre>1000</pre></div><style>\r\n",
       ".dni-code-hint {\r\n",
       "    font-style: italic;\r\n",
       "    overflow: hidden;\r\n",
       "    white-space: nowrap;\r\n",
       "}\r\n",
       ".dni-treeview {\r\n",
       "    white-space: nowrap;\r\n",
       "}\r\n",
       ".dni-treeview td {\r\n",
       "    vertical-align: top;\r\n",
       "    text-align: start;\r\n",
       "}\r\n",
       "details.dni-treeview {\r\n",
       "    padding-left: 1em;\r\n",
       "}\r\n",
       "table td {\r\n",
       "    text-align: start;\r\n",
       "}\r\n",
       "table tr { \r\n",
       "    vertical-align: top; \r\n",
       "    margin: 0em 0px;\r\n",
       "}\r\n",
       "table tr td pre \r\n",
       "{ \r\n",
       "    vertical-align: top !important; \r\n",
       "    margin: 0em 0px !important;\r\n",
       "} \r\n",
       "table th {\r\n",
       "    text-align: start;\r\n",
       "}\r\n",
       "</style>"
      ]
     },
     "metadata": {},
     "output_type": "display_data"
    }
   ],
   "source": [
    "open SharpToken\n",
    "\n",
    "let embeddingEncoding = \"cl100k_base\"  // this the encoding for text-embedding-ada-002\n",
    "let maxTokens = 8000  // the maximum for text-embedding-ada-002 is 8191\n",
    "\n",
    "// Subsample to 1k most recent reviews and remove samples that are too long\n",
    "let topN = 1000\n",
    "let dfSortedByTime =\n",
    "    df \n",
    "    |> Seq.sortByDescending (fun r -> r.Time)\n",
    "    |> Seq.take topN\n",
    "    |> Seq.sortBy (fun r -> r.Time)\n",
    "\n",
    "let encoding = GptEncoding.GetEncoding(embeddingEncoding)\n",
    "let dfLessThanNTokens = \n",
    "    dfSortedByTime\n",
    "    |> Seq.map (fun r -> \n",
    "        r.NTokens <- encoding.Encode(r.Combined).Count\n",
    "        \n",
    "        r)\n",
    "    |> Seq.filter (fun r -> r.NTokens <= maxTokens)\n",
    "    |> Seq.take topN\n",
    "\n",
    "dfLessThanNTokens |> Seq.length\n"
   ]
  },
  {
   "cell_type": "markdown",
   "metadata": {},
   "source": [
    "# 2. Get embeddings and save them for future use"
   ]
  },
  {
   "cell_type": "code",
   "execution_count": null,
   "metadata": {
    "dotnet_interactive": {
     "language": "fsharp"
    },
    "polyglot_notebook": {
     "kernelName": "fsharp"
    },
    "vscode": {
     "languageId": "polyglot-notebook"
    }
   },
   "outputs": [],
   "source": [
    "open OpenAi.EmbeddingsUtils\n",
    "\n",
    "let embeddingModel = \"text-embedding-ada-002\"\n",
    "\n",
    "// Ensure you have the OPENAI_API_KEY environment variable set \n",
    "// This may take a few minutes\n",
    "let reviewsWithEmbeddings = \n",
    "    dfLessThanNTokens \n",
    "    |> Seq.map (fun x -> \n",
    "        let res = getEmbeddings x.Combined embeddingModel\n",
    "        let embedding = \n",
    "            match res with\n",
    "            | Ok embedding -> embedding[0].Embedding\n",
    "            | _ -> [||]\n",
    "\n",
    "        x.Embedding <- embedding\n",
    "        \n",
    "        x)\n",
    "\n",
    "saveCsvWithMap<AugmentedReview, AugmentedReviewMap> \"data/fine_food_reviews_with_embeddings_1k.csv\" reviewsWithEmbeddings"
   ]
  }
 ],
 "metadata": {
  "kernelspec": {
   "display_name": ".NET (C#)",
   "language": "C#",
   "name": ".net-csharp"
  },
  "language_info": {
   "name": "python"
  },
  "polyglot_notebook": {
   "kernelInfo": {
    "defaultKernelName": "csharp",
    "items": [
     {
      "aliases": [],
      "name": "csharp"
     }
    ]
   }
  }
 },
 "nbformat": 4,
 "nbformat_minor": 2
}
