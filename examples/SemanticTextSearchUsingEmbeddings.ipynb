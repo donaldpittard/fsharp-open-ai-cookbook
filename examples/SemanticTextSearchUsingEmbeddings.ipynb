{
 "cells": [
  {
   "cell_type": "markdown",
   "metadata": {},
   "source": [
    "## Semantic text search using embeddings\n",
    "\n",
    "We can search through all our reviews semantically in a very different manner, and at a very low cost, by embedding our search query and then finding similar reviews. The dataset is created in the GetEmbeddingsFromDataset Notebook."
   ]
  },
  {
   "cell_type": "code",
   "execution_count": 9,
   "metadata": {
    "dotnet_interactive": {
     "language": "fsharp"
    },
    "polyglot_notebook": {
     "kernelName": "fsharp"
    },
    "vscode": {
     "languageId": "polyglot-notebook"
    }
   },
   "outputs": [
    {
     "data": {
      "text/html": [
       "<div><div></div><div></div><div><strong>Installed Packages</strong><ul><li><span>CsvHelper, 30.0.1</span></li></ul></div></div>"
      ]
     },
     "metadata": {},
     "output_type": "display_data"
    }
   ],
   "source": [
    "#r \"nuget: CsvHelper, 30.0.1\"\n",
    "#load \"Csv.fs\"\n",
    "#load \"Review.fs\"\n",
    "\n",
    "open Csv\n",
    "open Review\n",
    "\n",
    "let dataFilePath = \"data/fine_food_reviews_with_embeddings_1k.csv\"\n",
    "let df = readCsvWithMap<AugmentedReview, AugmentedReviewMap> dataFilePath"
   ]
  },
  {
   "cell_type": "markdown",
   "metadata": {},
   "source": [
    "Here we compare the cosine similarity of the embeddings of the query and the documents, and show top_n best matches."
   ]
  },
  {
   "cell_type": "code",
   "execution_count": 20,
   "metadata": {
    "dotnet_interactive": {
     "language": "fsharp"
    },
    "polyglot_notebook": {
     "kernelName": "fsharp"
    },
    "vscode": {
     "languageId": "polyglot-notebook"
    }
   },
   "outputs": [
    {
     "data": {
      "text/html": [
       "<div><div></div><div></div><div><strong>Installed Packages</strong><ul><li><span>System.Numerics.Tensors, 8.0.0-rc.2.23479.6</span></li></ul></div></div>"
      ]
     },
     "metadata": {},
     "output_type": "display_data"
    },
    {
     "name": "stdout",
     "output_type": "stream",
     "text": [
      "Good Buy: I liked the beans. They were vacuum sealed, plump and moist. Would recommend them for any use. I personally split and stuck them in some vodka to make vanilla extract. Yum!\n",
      "\n",
      "Jamaican Blue beans: Excellent coffee bean for roasting. Our family just purchased another 5 pounds for more roasting. Plenty of flavor and mild on acidity when roasted to a dark brown bean and before any oil appears on the bean itself (455F @ 17 minutes).\n",
      "\n",
      "Delicious!: I enjoy this white beans seasoning, it gives a rich flavor to the beans I just love it, my mother in law didn't know about this Zatarain's brand and now she is traying different seasoning and she likes it very much.<br />Thank you Amazon for having it because now I can't find it in stores, I like to have this 12 boxes because I can made it whenever my family want it.\n",
      "\n"
     ]
    }
   ],
   "source": [
    "#r \"nuget: System.Numerics.Tensors, 8.0.0-rc.2.23479.6\"\n",
    "#load \"OpenAi.fs\"\n",
    "\n",
    "open OpenAi.EmbeddingsUtils\n",
    "\n",
    "let searchReviews (reviews: AugmentedReview seq) (productDescription: string) (n: int) (pprint: bool) = \n",
    "    let productEmbedding = \n",
    "        getEmbeddings productDescription \"text-embedding-ada-002\"\n",
    "        |> (function\n",
    "            | Ok embeddings -> embeddings[0].Embedding\n",
    "            | _ -> [||]) \n",
    "        \n",
    "    let results =\n",
    "        reviews\n",
    "        |> Seq.sortByDescending (fun review -> getCosineSimilarity review.Embedding productEmbedding)\n",
    "        |> Seq.take n\n",
    "        |> Seq.map (fun r -> \n",
    "            let newReview = new AugmentedReview(r)\n",
    "            \n",
    "            newReview.Combined <- newReview.Combined.Replace(\"Title: \", \"\").Replace(\"; Content\", \"\")\n",
    "            \n",
    "            newReview)\n",
    "\n",
    "    if pprint then\n",
    "        for r in results do\n",
    "            printfn $\"{r.Combined}\"\n",
    "            printfn \"\"\n",
    "        results\n",
    "    else\n",
    "        results\n",
    "    \n",
    "searchReviews df \"delicious beans\" 3 true |> ignore\n"
   ]
  },
  {
   "cell_type": "code",
   "execution_count": 21,
   "metadata": {
    "dotnet_interactive": {
     "language": "fsharp"
    },
    "polyglot_notebook": {
     "kernelName": "fsharp"
    },
    "vscode": {
     "languageId": "polyglot-notebook"
    }
   },
   "outputs": [
    {
     "name": "stdout",
     "output_type": "stream",
     "text": [
      "Tasty and Quick Pasta: Barilla Whole Grain Fusilli with Vegetable Marinara is tasty and has an excellent chunky vegetable marinara.  I just wish there was more of it.  If you aren't starving or on a diet, the 9oz serving is enough for lunch although you might want to add a piece of fruit to feel full.  The whole grain fusilli cooked to al dente tenderness following the instructions and the chunky marinara sauce is so good that I wished there was more of it.  Rarely do I eat sauce alone but this sauce is good enough to.\n",
      "\n",
      "sooo good: tastes so good. Worth the money. My boyfriend hates wheat pasta and LOVES this. cooks fast tastes great.I love this brand and started buying more of their pastas. Bulk is best.\n",
      "\n",
      "Handy: Love the idea of ready in a minute pasta and for that alone this product gets praise.  The pasta is whole grain so that's a big plus and it actually comes out al dente.  The vegetable marinara sauce is tasty, but has a high salt content - 710mg for a 9 oz. serving.<br /><br />It looks like much thought and testing went into creating the packaging, but I found it challenging.  You need to pull back the film to expose the sauce tray -- and not spill it.  I had to pull hard on the film, which made the sauce cup wiggle.  Easy to work around, but tricky nonetheless.<br /><br />All in all a step up from usual microwave in a minute fare.\n",
      "\n"
     ]
    }
   ],
   "source": [
    "searchReviews df \"whole wheat pasta\" 3 true |> ignore"
   ]
  },
  {
   "cell_type": "markdown",
   "metadata": {},
   "source": [
    "We can search through these reviews easily. To speed up computation, we can use a special algorithm, aimed at faster search through embeddings."
   ]
  },
  {
   "cell_type": "code",
   "execution_count": 22,
   "metadata": {
    "dotnet_interactive": {
     "language": "fsharp"
    },
    "polyglot_notebook": {
     "kernelName": "fsharp"
    },
    "vscode": {
     "languageId": "polyglot-notebook"
    }
   },
   "outputs": [
    {
     "name": "stdout",
     "output_type": "stream",
     "text": [
      "great product, poor delivery: The coffee is excellent and I am a repeat buyer.  Problem this time was with the UPS delivery.  They left the box in front of my garage door in the middle of the driveway. Because of this odd delivery location, my wife ran over the box when she backed out of the garage and did not see the box.  we lost half of the cups.  Thius is the third time I have written about this matter to Amazon with no results.  Hopefully someone will respond to me.<br /><br />fred santaniello\n",
      "\n"
     ]
    }
   ],
   "source": [
    "searchReviews df \"bad delivery\" 1 true |> ignore"
   ]
  },
  {
   "cell_type": "markdown",
   "metadata": {},
   "source": [
    "As we can see, this can immediately deliver a lot of value. In this example we show being able to quickly find the examples of delivery failures."
   ]
  },
  {
   "cell_type": "code",
   "execution_count": 23,
   "metadata": {
    "dotnet_interactive": {
     "language": "fsharp"
    },
    "polyglot_notebook": {
     "kernelName": "fsharp"
    },
    "vscode": {
     "languageId": "polyglot-notebook"
    }
   },
   "outputs": [
    {
     "name": "stdout",
     "output_type": "stream",
     "text": [
      "Extremely dissapointed: Hi,<br />I am very disappointed with the past shipment I received of the ONE coconut water. 3 of the boxes were leaking and the coconut water was spoiled.<br /><br />Thanks.<br /><br />Laks\n",
      "\n"
     ]
    }
   ],
   "source": [
    "searchReviews df \"spoilt\" 1 true |> ignore"
   ]
  },
  {
   "cell_type": "code",
   "execution_count": 24,
   "metadata": {
    "dotnet_interactive": {
     "language": "fsharp"
    },
    "polyglot_notebook": {
     "kernelName": "fsharp"
    },
    "vscode": {
     "languageId": "polyglot-notebook"
    }
   },
   "outputs": [
    {
     "name": "stdout",
     "output_type": "stream",
     "text": [
      "Good food: The only dry food my queen cat will eat. Helps prevent hair balls. Good packaging. Arrives promptly. Recommended by a friend who sells pet food.\n",
      "\n",
      "The cats like it: My 7 cats like this food but it is a little yucky for the human. Pieces of mackerel swimming in a dark broth. It is billed as a \"complete\" food and contains carrots, peas and pasta. Why, I don't know, since these are not foods that a cat would eat in the wild. An OK alternative to go along with their dry food.\n",
      "\n"
     ]
    }
   ],
   "source": [
    "searchReviews df \"pet food\" 2 true |> ignore"
   ]
  }
 ],
 "metadata": {
  "language_info": {
   "name": "csharp"
  }
 },
 "nbformat": 4,
 "nbformat_minor": 2
}
