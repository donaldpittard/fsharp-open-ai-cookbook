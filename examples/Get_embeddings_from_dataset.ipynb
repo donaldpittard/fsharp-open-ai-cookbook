{
 "cells": [
  {
   "cell_type": "markdown",
   "metadata": {},
   "source": [
    "# Get embedding from dataset\n",
    "\n",
    "This notebook gives an example on how to get embeddings from a large dataset.\n",
    "\n",
    "# 1. Load the dataset\n",
    "\n",
    "The dataset used in this example is [Amazon Fine Food Reviews Dataset](https://www.kaggle.com/datasets/snap/amazon-fine-food-reviews). The dataset contains a total of 568,454 food reviews Amazon users left up to October 2012. We will use a subset of this dataset, consisting of 1,000 most recent reviews for illustration purposes. The reviews are in English and tend to be positive or negative. Each review has a ProductId, UserId, Score, review title (Summary) and review body (Text).\n",
    "\n",
    "We will combine the review summary and review text into a single combined text. The model will encode this combined text and it will output a single vector embedding.\n",
    "\n",
    "To run this notebook, you will need to install: pandas, openai, transformers, plotly, matplotlib, scikit-learn, torch (transformer dep), torchvision, and scipy."
   ]
  },
  {
   "cell_type": "code",
   "execution_count": 6,
   "metadata": {
    "dotnet_interactive": {
     "language": "fsharp"
    },
    "polyglot_notebook": {
     "kernelName": "fsharp"
    },
    "vscode": {
     "languageId": "polyglot-notebook"
    }
   },
   "outputs": [
    {
     "data": {
      "text/html": [
       "<div><div></div><div></div><div><strong>Installed Packages</strong><ul><li><span>Microsoft.Data.Analysis, 0.21.0-preview.23511.1</span></li><li><span>Microsoft.ML, 3.0.0-preview.23511.1</span></li><li><span>SharpToken, 1.2.12</span></li><li><span>System.Numerics.Tensors, 8.0.0-rc.2.23479.6</span></li></ul></div></div>"
      ]
     },
     "metadata": {},
     "output_type": "display_data"
    }
   ],
   "source": [
    "// Imports\n",
    "#r \"nuget: Microsoft.ML, 3.0.0-preview.23511.1\"\n",
    "#r \"nuget: Microsoft.Data.Analysis, 0.21.0-preview.23511.1\"\n",
    "#r \"nuget: SharpToken, 1.2.12\"\n",
    "#r \"nuget: System.Numerics.Tensors, 8.0.0-rc.2.23479.6\"\n",
    "#load \"OpenAi.fs\""
   ]
  },
  {
   "cell_type": "code",
   "execution_count": 18,
   "metadata": {
    "dotnet_interactive": {
     "language": "fsharp"
    },
    "polyglot_notebook": {
     "kernelName": "fsharp"
    },
    "vscode": {
     "languageId": "polyglot-notebook"
    }
   },
   "outputs": [],
   "source": [
    "let embeddingModel = \"text-embedding-ada-002\"\n",
    "let embeddingEncoding = \"cl100k_base\"  // this the encoding for text-embedding-ada-002\n",
    "let maxTokens = 8000  // the maximum for text-embedding-ada-002 is 8191"
   ]
  },
  {
   "cell_type": "code",
   "execution_count": 19,
   "metadata": {
    "dotnet_interactive": {
     "language": "fsharp"
    },
    "polyglot_notebook": {
     "kernelName": "fsharp"
    },
    "vscode": {
     "languageId": "polyglot-notebook"
    }
   },
   "outputs": [
    {
     "data": {
      "text/html": [
       "<table id=\"table_638348676880418721\"><thead><tr><th><i>index</i></th><th>Time</th><th>ProductId</th><th>UserId</th><th>Score</th><th>Summary</th><th>Text</th><th>combined</th></tr></thead><tbody><tr><td><i><div class=\"dni-plaintext\"><pre>0</pre></div></i></td><td><div class=\"dni-plaintext\"><pre>1.3511232E+09</pre></div></td><td>B003XPF9BO</td><td>A3R7JR3FMEBXQB</td><td><div class=\"dni-plaintext\"><pre>5</pre></div></td><td>where does one  start...and stop... with a treat like this</td><td>Wanted to save some to bring to my Chicago family but my North Carolina family ate all 4 boxes before I could pack. These are excellent...could serve to anyone</td><td>Title: where does one  start...and stop... with a treat like this; Content: Wanted to save some to bring to my Chicago family but my North Carolina family ate all 4 boxes before I could pack. These are excellent...could serve to anyone</td></tr><tr><td><i><div class=\"dni-plaintext\"><pre>1</pre></div></i></td><td><div class=\"dni-plaintext\"><pre>1.3511232E+09</pre></div></td><td>B003JK537S</td><td>A3JBPC3WFUT5ZP</td><td><div class=\"dni-plaintext\"><pre>1</pre></div></td><td>Arrived in pieces</td><td>Not pleased at all. When I opened the box, most of the rings were broken in pieces. A total waste of money.</td><td>Title: Arrived in pieces; Content: Not pleased at all. When I opened the box, most of the rings were broken in pieces. A total waste of money.</td></tr></tbody></table><style>\r\n",
       ".dni-code-hint {\r\n",
       "    font-style: italic;\r\n",
       "    overflow: hidden;\r\n",
       "    white-space: nowrap;\r\n",
       "}\r\n",
       ".dni-treeview {\r\n",
       "    white-space: nowrap;\r\n",
       "}\r\n",
       ".dni-treeview td {\r\n",
       "    vertical-align: top;\r\n",
       "    text-align: start;\r\n",
       "}\r\n",
       "details.dni-treeview {\r\n",
       "    padding-left: 1em;\r\n",
       "}\r\n",
       "table td {\r\n",
       "    text-align: start;\r\n",
       "}\r\n",
       "table tr { \r\n",
       "    vertical-align: top; \r\n",
       "    margin: 0em 0px;\r\n",
       "}\r\n",
       "table tr td pre \r\n",
       "{ \r\n",
       "    vertical-align: top !important; \r\n",
       "    margin: 0em 0px !important;\r\n",
       "} \r\n",
       "table th {\r\n",
       "    text-align: start;\r\n",
       "}\r\n",
       "</style>"
      ]
     },
     "metadata": {},
     "output_type": "display_data"
    }
   ],
   "source": [
    "open Microsoft.Data.Analysis\n",
    "open System.IO\n",
    "\n",
    "let inputDataPath = Path.GetFullPath(@\"data/fine_food_reviews_1k.csv\")\n",
    "let df = DataFrame.LoadCsv(inputDataPath)\n",
    "\n",
    "df.Columns.Remove(\"Id\")\n",
    "df.DropNulls()\n",
    "\n",
    "let combined = \n",
    "    df.Rows\n",
    "    |> Seq.map (fun row -> \n",
    "        let title = string row[\"Summary\"]\n",
    "        let content = string row[\"Text\"]\n",
    "\n",
    "        $\"Title: {title.Trim()}; Content: {content.Trim()}\") \n",
    "\n",
    "df.Columns.Add(new StringDataFrameColumn(\"combined\", combined))\n",
    "df.Head(2)\n",
    "    "
   ]
  },
  {
   "cell_type": "code",
   "execution_count": 20,
   "metadata": {
    "dotnet_interactive": {
     "language": "fsharp"
    },
    "polyglot_notebook": {
     "kernelName": "fsharp"
    },
    "vscode": {
     "languageId": "polyglot-notebook"
    }
   },
   "outputs": [
    {
     "data": {
      "text/html": [
       "<div class=\"dni-plaintext\"><pre>1000</pre></div><style>\r\n",
       ".dni-code-hint {\r\n",
       "    font-style: italic;\r\n",
       "    overflow: hidden;\r\n",
       "    white-space: nowrap;\r\n",
       "}\r\n",
       ".dni-treeview {\r\n",
       "    white-space: nowrap;\r\n",
       "}\r\n",
       ".dni-treeview td {\r\n",
       "    vertical-align: top;\r\n",
       "    text-align: start;\r\n",
       "}\r\n",
       "details.dni-treeview {\r\n",
       "    padding-left: 1em;\r\n",
       "}\r\n",
       "table td {\r\n",
       "    text-align: start;\r\n",
       "}\r\n",
       "table tr { \r\n",
       "    vertical-align: top; \r\n",
       "    margin: 0em 0px;\r\n",
       "}\r\n",
       "table tr td pre \r\n",
       "{ \r\n",
       "    vertical-align: top !important; \r\n",
       "    margin: 0em 0px !important;\r\n",
       "} \r\n",
       "table th {\r\n",
       "    text-align: start;\r\n",
       "}\r\n",
       "</style>"
      ]
     },
     "metadata": {},
     "output_type": "display_data"
    }
   ],
   "source": [
    "open SharpToken\n",
    "\n",
    "// subsample to 1k most recent reviews and remove samples that are too long\n",
    "let topN = 1000\n",
    "df.OrderBy(\"Time\").Tail(topN)\n",
    "df.Columns.Remove(\"Time\")\n",
    "\n",
    "let encoding = GptEncoding.GetEncoding(embeddingEncoding)\n",
    "\n",
    "// Omit reviews that are too long to embed\n",
    "let nTokens = \n",
    "    df[\"combined\"]\n",
    "    |> Seq.cast<string>\n",
    "    |> Seq.map (encoding.Encode >> Seq.length)\n",
    "    \n",
    "df.Columns.Add(new Int32DataFrameColumn(\"n_tokens\", nTokens))\n",
    "df.Filter(df[\"n_tokens\"].ElementwiseLessThanOrEqual(maxTokens))\n",
    "df.Rows.Count"
   ]
  },
  {
   "cell_type": "markdown",
   "metadata": {},
   "source": [
    "# 2. Get embeddings and save them for future use"
   ]
  },
  {
   "cell_type": "code",
   "execution_count": 21,
   "metadata": {
    "dotnet_interactive": {
     "language": "fsharp"
    },
    "polyglot_notebook": {
     "kernelName": "fsharp"
    },
    "vscode": {
     "languageId": "polyglot-notebook"
    }
   },
   "outputs": [],
   "source": [
    "open OpenAi.EmbeddingsUtils\n",
    "open System.Text.Json\n",
    "\n",
    "// Ensure you have the OPENAI_API_KEY environment variable set \n",
    "\n",
    "// This may take a few minutes\n",
    "let embedding = \n",
    "    df[\"combined\"]\n",
    "    |> Seq.cast<string>\n",
    "    |> Seq.map (fun x -> getEmbedding x embeddingModel)\n",
    "    |> Seq.map (function\n",
    "        | Ok embedding -> JsonSerializer.Serialize(embedding[0].Embedding)\n",
    "        | _ -> \"\")\n",
    "\n",
    "df.Columns.Add(new StringDataFrameColumn(\"embedding\", embedding))\n",
    "DataFrame.SaveCsv(df, \"data/fine_food_reviews_with_embeddings_1k.csv\")\n"
   ]
  }
 ],
 "metadata": {
  "kernelspec": {
   "display_name": ".NET (C#)",
   "language": "C#",
   "name": ".net-csharp"
  },
  "language_info": {
   "name": "python"
  },
  "polyglot_notebook": {
   "kernelInfo": {
    "defaultKernelName": "csharp",
    "items": [
     {
      "aliases": [],
      "name": "csharp"
     }
    ]
   }
  }
 },
 "nbformat": 4,
 "nbformat_minor": 2
}
