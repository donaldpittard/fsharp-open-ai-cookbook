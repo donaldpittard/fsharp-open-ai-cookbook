{
 "cells": [
  {
   "cell_type": "markdown",
   "metadata": {},
   "source": [
    "## Visualizing the embeddings in 2D (WIP)\n",
    "\n",
    "We will use t-SNE to reduce the dimensionality of the embeddings from 1536 to 2. Once the embeddings are reduced to two dimensions, we can plot them in a 2D scatter plot. The dataset is created in the [Get_embeddings_from_dataset Notebook](Get_embeddings_from_dataset.ipynb)\n",
    "\n",
    "## 1. Reduce dimensionality\n",
    "\n",
    "We reduce the dimensionality to 2 dimensions using t-SNE decomposition"
   ]
  },
  {
   "cell_type": "code",
   "execution_count": 8,
   "metadata": {
    "dotnet_interactive": {
     "language": "fsharp"
    },
    "polyglot_notebook": {
     "kernelName": "fsharp"
    },
    "vscode": {
     "languageId": "polyglot-notebook"
    }
   },
   "outputs": [
    {
     "data": {
      "text/html": [
       "<div><div></div><div></div><div><strong>Installed Packages</strong><ul><li><span>Accord.MachineLearning, 3.8.2-alpha</span></li><li><span>accord.math, 3.8.2-alpha</span></li><li><span>Accord.Statistics, 3.8.2-alpha</span></li><li><span>Microsoft.Data.Analysis, 0.21.0-preview.23511.1</span></li><li><span>Microsoft.ML, 3.0.0-preview.23511.1</span></li><li><span>System.Numerics.Tensors, 8.0.0-rc.2.23479.6</span></li></ul></div></div>"
      ]
     },
     "metadata": {},
     "output_type": "display_data"
    },
    {
     "ename": "Error",
     "evalue": "input.fsx (19,16)-(19,20) typecheck error The type 'TSNE' is not defined.",
     "output_type": "error",
     "traceback": [
      "input.fsx (19,16)-(19,20) typecheck error The type 'TSNE' is not defined."
     ]
    }
   ],
   "source": [
    "#r \"nuget: Accord.MachineLearning, 3.8.2-alpha\"\n",
    "#r \"nuget: Accord.Math, 3.8.2-alpha\"\n",
    "#r \"nuget: Accord.Statistics, 3.8.2-alpha\"\n",
    "#r \"nuget: Microsoft.ML, 3.0.0-preview.23511.1\"\n",
    "#r \"nuget: Microsoft.Data.Analysis, 0.21.0-preview.23511.1\"\n",
    "#r \"nuget: System.Numerics.Tensors, 8.0.0-rc.2.23479.6\"\n",
    "#load \"OpenAi.fs\"\n",
    "\n",
    "open Accord.MachineLearning\n",
    "open Accord.Math\n",
    "open Microsoft.Data.Analysis\n",
    "open System.IO\n",
    "open System.Text.Json\n",
    "\n",
    "// Load the embeddings\n",
    "let dataFilePath = Path.GetFullPath(@\"data/fine_food_reviews_with_embeddings_1k.csv\")\n",
    "let df = DataFrame.LoadCsv(dataFilePath)\n",
    "\n",
    "// Convert to a list of lists of floats\n",
    "let matrix =\n",
    "    df[\"embedding\"]\n",
    "    |> Seq.cast<string>\n",
    "    |> Seq.map (fun x -> JsonSerializer.Deserialize<float32[]>(x))\n",
    "\n"
   ]
  }
 ],
 "metadata": {
  "language_info": {
   "name": "csharp"
  }
 },
 "nbformat": 4,
 "nbformat_minor": 2
}
